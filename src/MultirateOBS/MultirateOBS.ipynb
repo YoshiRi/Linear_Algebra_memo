{
 "cells": [
  {
   "cell_type": "markdown",
   "metadata": {},
   "source": [
    "# はじめに\n",
    "\n",
    "[横向きスタイル](https://github.com/jupyter/notebook/issues/2897)を適用してみた。悪くない感じ。\n",
    "notebookの幅も9割と十分な幅を持っている。"
   ]
  },
  {
   "cell_type": "code",
   "execution_count": 2,
   "metadata": {},
   "outputs": [
    {
     "data": {
      "text/html": [
       "<style>\n",
       "#notebook-container {\n",
       "    width: 90%;\n",
       "    background-color: #EEE\n",
       "}\n",
       "\n",
       ".code_cell {\n",
       "   flex-direction: row !important;\n",
       "}\n",
       "\n",
       ".code_cell .output_wrapper {\n",
       "    width: 50%;\n",
       "    background-color: #FFF\n",
       "}\n",
       "\n",
       ".code_cell .input {\n",
       "    width: 50%;\n",
       "    background-color: #FFF\n",
       "}\n",
       "</style>"
      ],
      "text/plain": [
       "<IPython.core.display.HTML object>"
      ]
     },
     "metadata": {},
     "output_type": "display_data"
    }
   ],
   "source": [
    "%%html\n",
    "<style>\n",
    "#notebook-container {\n",
    "    width: 90%;\n",
    "    background-color: #EEE\n",
    "}\n",
    "\n",
    ".code_cell {\n",
    "   flex-direction: row !important;\n",
    "}\n",
    "\n",
    ".code_cell .output_wrapper {\n",
    "    width: 50%;\n",
    "    background-color: #FFF\n",
    "}\n",
    "\n",
    ".code_cell .input {\n",
    "    width: 50%;\n",
    "    background-color: #FFF\n",
    "}\n",
    "</style>"
   ]
  },
  {
   "cell_type": "markdown",
   "metadata": {},
   "source": [
    "系はサンプリング時間で離散化されているとする。\n",
    "状態方程式は，\n",
    "\n",
    "観測として位置センサ，速度センサ，加速度センサの3つを考える。\n",
    "したがって観測行列としてはそれぞれ次のようになる。\n"
   ]
  },
  {
   "cell_type": "code",
   "execution_count": 3,
   "metadata": {},
   "outputs": [
    {
     "name": "stdout",
     "output_type": "stream",
     "text": [
      "\n",
      "len =\n",
      "\n",
      "        1000\n",
      "\n",
      "\n"
     ]
    }
   ],
   "source": [
    "% sampling\n",
    "ST = 0.001;\n",
    "\n",
    "% Simulation Length\n",
    "len = 1000\n",
    "time = 0:ST:ST*(len-1);"
   ]
  },
  {
   "cell_type": "code",
   "execution_count": 4,
   "metadata": {},
   "outputs": [
    {
     "name": "stdout",
     "output_type": "stream",
     "text": [
      "\n"
     ]
    }
   ],
   "source": [
    "% A matrix\n",
    "A = [1 ST 0;\n",
    "    0 1 ST;\n",
    "    0 0 1];\n",
    "\n",
    "% C matrix\n",
    "c1 = [1 0 0]; % position sensor\n",
    "c2 = [0 1 0]; % vel\n",
    "c3 = [0 0 1]; % acc"
   ]
  },
  {
   "cell_type": "code",
   "execution_count": 6,
   "metadata": {},
   "outputs": [
    {
     "name": "stdout",
     "output_type": "stream",
     "text": [
      "\n",
      "Mo1_1 =\n",
      "\n",
      "    1.0000         0         0\n",
      "    1.0000    0.0010         0\n",
      "    1.0000    0.0020    0.0000\n",
      "\n",
      "\n",
      "Mo1_2 =\n",
      "\n",
      "         0    1.0000         0\n",
      "         0    1.0000    0.0010\n",
      "         0    1.0000    0.0020\n",
      "\n",
      "\n",
      "Mo1_3 =\n",
      "\n",
      "     0     0     1\n",
      "     0     0     1\n",
      "     0     0     1\n",
      "\n",
      "\n"
     ]
    }
   ],
   "source": [
    "%% Pattern 1: Obserbility Matrix for Each sensor\n",
    "Mo1_1 = [c1;c1*A;c1*A^2]\n",
    "Mo1_2 = [c2;c2*A;c2*A^2]\n",
    "Mo1_3 = [c3;c3*A;c3*A^2]"
   ]
  },
  {
   "cell_type": "code",
   "execution_count": null,
   "metadata": {},
   "outputs": [],
   "source": []
  },
  {
   "cell_type": "markdown",
   "metadata": {},
   "source": [
    "# はじめに\n",
    "\n",
    "[横向きスタイル](https://github.com/jupyter/notebook/issues/2897)を適用してみた。悪くない感じ。\n",
    "notebookの幅も9割と十分な幅を持っている。"
   ]
  },
  {
   "cell_type": "code",
   "execution_count": 7,
   "metadata": {},
   "outputs": [
    {
     "name": "stdout",
     "output_type": "stream",
     "text": [
      "\n"
     ]
    },
    {
     "data": {
      "image/png": "[encoded data removed]",
      "text/plain": [
       "<IPython.core.display.Image object>"
      ]
     },
     "metadata": {},
     "output_type": "display_data"
    }
   ],
   "source": [
    "%% make input\n",
    "Acc0 = 1;\n",
    "acc = Acc0 * ones(1,len);\n",
    "vel = Acc0*time;\n",
    "pos = Acc0/2*time.*time;\n",
    "figure\n",
    "plot(time,acc,time,vel,time,pos)\n",
    "legend('Acc','Vel','Pos')\n",
    "grid on"
   ]
  },
  {
   "cell_type": "code",
   "execution_count": null,
   "metadata": {},
   "outputs": [],
   "source": []
  }
 ],
 "metadata": {
  "kernelspec": {
   "display_name": "Matlab",
   "language": "matlab",
   "name": "matlab"
  },
  "language_info": {
   "codemirror_mode": "octave",
   "file_extension": ".m",
   "help_links": [
    {
     "text": "MetaKernel Magics",
     "url": "https://github.com/calysto/metakernel/blob/master/metakernel/magics/README.md"
    }
   ],
   "mimetype": "text/x-octave",
   "name": "matlab",
   "version": "0.15.0"
  }
 },
 "nbformat": 4,
 "nbformat_minor": 2
}
