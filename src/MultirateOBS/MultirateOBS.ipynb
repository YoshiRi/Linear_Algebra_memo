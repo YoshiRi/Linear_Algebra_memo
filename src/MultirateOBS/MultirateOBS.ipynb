{
 "cells": [
  {
   "cell_type": "markdown",
   "metadata": {},
   "source": [
    "# はじめに\n",
    "\n",
    "[横向きスタイル](https://github.com/jupyter/notebook/issues/2897)を適用してみた。悪くない感じ。\n",
    "notebookの幅も9割と十分な幅を持っている。"
   ]
  },
  {
   "cell_type": "code",
   "execution_count": 2,
   "metadata": {},
   "outputs": [
    {
     "data": {
      "text/html": [
       "<style>\n",
       "#notebook-container {\n",
       "    width: 90%;\n",
       "    background-color: #EEE\n",
       "}\n",
       "\n",
       ".code_cell {\n",
       "   flex-direction: row !important;\n",
       "}\n",
       "\n",
       ".code_cell .output_wrapper {\n",
       "    width: 50%;\n",
       "    background-color: #FFF\n",
       "}\n",
       "\n",
       ".code_cell .input {\n",
       "    width: 50%;\n",
       "    background-color: #FFF\n",
       "}\n",
       "</style>"
      ],
      "text/plain": [
       "<IPython.core.display.HTML object>"
      ]
     },
     "metadata": {},
     "output_type": "display_data"
    }
   ],
   "source": [
    "%%html\n",
    "<style>\n",
    "#notebook-container {\n",
    "    width: 90%;\n",
    "    background-color: #EEE\n",
    "}\n",
    "\n",
    ".code_cell {\n",
    "   flex-direction: row !important;\n",
    "}\n",
    "\n",
    ".code_cell .output_wrapper {\n",
    "    width: 50%;\n",
    "    background-color: #FFF\n",
    "}\n",
    "\n",
    ".code_cell .input {\n",
    "    width: 50%;\n",
    "    background-color: #FFF\n",
    "}\n",
    "</style>"
   ]
  },
  {
   "cell_type": "markdown",
   "metadata": {},
   "source": [
    "系はサンプリング時間で離散化されているとする。\n",
    "状態方程式は，\n",
    "\n",
    "観測として位置センサ，速度センサ，加速度センサの3つを考える。\n",
    "したがって観測行列としてはそれぞれ次のようになる。\n"
   ]
  },
  {
   "cell_type": "code",
   "execution_count": 3,
   "metadata": {},
   "outputs": [
    {
     "name": "stdout",
     "output_type": "stream",
     "text": [
      "\n",
      "len =\n",
      "\n",
      "        1000\n",
      "\n",
      "\n"
     ]
    }
   ],
   "source": [
    "% sampling\n",
    "ST = 0.001;\n",
    "\n",
    "% Simulation Length\n",
    "len = 1000\n",
    "time = 0:ST:ST*(len-1);"
   ]
  },
  {
   "cell_type": "code",
   "execution_count": 4,
   "metadata": {},
   "outputs": [
    {
     "name": "stdout",
     "output_type": "stream",
     "text": [
      "\n"
     ]
    }
   ],
   "source": [
    "% A matrix\n",
    "A = [1 ST 0;\n",
    "    0 1 ST;\n",
    "    0 0 1];\n",
    "\n",
    "% C matrix\n",
    "c1 = [1 0 0]; % position sensor\n",
    "c2 = [0 1 0]; % vel\n",
    "c3 = [0 0 1]; % acc"
   ]
  },
  {
   "cell_type": "markdown",
   "metadata": {},
   "source": [
    "## 一般可観測性指数とその逆行列\n",
    "一般可観測性指数を仮に$C=[c_1^\\top, c_1^\\top A, c_2^\\top ]^\\top$とする。\n",
    "その時の観測を$Y=[y_1[2i], y_1[2i+1], y_2[2i]]^\\top$とする。\n",
    "\n",
    "$$\n",
    "Y = C x[2i]\n",
    "$$\n",
    "\n",
    "この時，$\\hat{x}[2i]=C^{-1}Y$である。\n",
    "\n",
    "$$\n",
    "V(Y) = diag(\\sigma_1^2,\\sigma_1^2,\\sigma_2^2)\n",
    "$$\n",
    "\n",
    "より\n",
    "\n",
    "$$\n",
    "V(\\hat{x}[2i]) = V(C^{-1}Y)= C^{-1}V(Y)(C^{-1})^\\top\n",
    "$$"
   ]
  },
  {
   "cell_type": "code",
   "execution_count": 14,
   "metadata": {},
   "outputs": [
    {
     "name": "stdout",
     "output_type": "stream",
     "text": [
      "\n",
      "Mo1_1 =\n",
      "\n",
      "    1.0000         0         0\n",
      "    1.0000    0.0010         0\n",
      "    1.0000    0.0020    0.0000\n",
      "\n",
      "\n",
      "Mo1_2 =\n",
      "\n",
      "         0    1.0000         0\n",
      "         0    1.0000    0.0010\n",
      "         0    1.0000    0.0020\n",
      "\n",
      "\n",
      "Mo1_3 =\n",
      "\n",
      "     0     0     1\n",
      "     0     0     1\n",
      "     0     0     1\n",
      "\n",
      "\n",
      "Mo2_4 =\n",
      "\n",
      "    1.0000         0         0\n",
      "    1.0000    0.0010         0\n",
      "         0    1.0000         0\n",
      "         0    1.0000    0.0010\n",
      "\n",
      "\n",
      "iMo2_1 =\n",
      "\n",
      "   1.0e+06 *\n",
      "\n",
      "    0.0000         0         0\n",
      "   -0.0010    0.0010   -0.0000\n",
      "    1.0000   -1.0000    0.0010\n",
      "\n",
      "\n",
      "iMo2_2 =\n",
      "\n",
      "           1           0           0\n",
      "           0           1           0\n",
      "           0       -1000        1000\n",
      "\n",
      "\n",
      "iMo2_3 =\n",
      "\n",
      "   1.0e+03 *\n",
      "\n",
      "    0.0010   -0.0000         0\n",
      "         0    0.0010         0\n",
      "         0   -1.0000    1.0000\n",
      "\n",
      "\n",
      "iMo2_4 =\n",
      "\n",
      "   1.0e+03 *\n",
      "\n",
      "    0.0005    0.0005   -0.0000   -0.0000\n",
      "   -0.0000    0.0000    0.0010    0.0000\n",
      "    0.0005   -0.0005   -1.0000    1.0000\n",
      "\n",
      "\n"
     ]
    }
   ],
   "source": [
    "%% Pattern 1: Obserbility Matrix for Each sensor\n",
    "Mo1_1 = [c1;c1*A;c1*A^2]\n",
    "Mo1_2 = [c2;c2*A;c2*A^2]\n",
    "Mo1_3 = [c3;c3*A;c3*A^2]\n",
    "Mo2_4 = [c1;c1*A;c2;c2*A]\n",
    "iMo2_1 = inv(Mo2_1)\n",
    "iMo2_2 = inv(Mo2_2)\n",
    "iMo2_3 = inv(Mo2_3)\n",
    "iMo2_4 = pinv(Mo2_4)"
   ]
  },
  {
   "cell_type": "code",
   "execution_count": null,
   "metadata": {},
   "outputs": [],
   "source": []
  },
  {
   "cell_type": "markdown",
   "metadata": {},
   "source": [
    "# データ作成\n"
   ]
  },
  {
   "cell_type": "code",
   "execution_count": 7,
   "metadata": {},
   "outputs": [
    {
     "name": "stdout",
     "output_type": "stream",
     "text": [
      "\n"
     ]
    },
    {
     "data": {
      "image/png": "[encoded data removed]",
      "text/plain": [
       "<IPython.core.display.Image object>"
      ]
     },
     "metadata": {},
     "output_type": "display_data"
    }
   ],
   "source": [
    "%% make input\n",
    "Acc0 = 1;\n",
    "acc = Acc0 * ones(1,len);\n",
    "vel = Acc0*time;\n",
    "pos = Acc0/2*time.*time;\n",
    "figure\n",
    "plot(time,acc,time,vel,time,pos)\n",
    "legend('Acc','Vel','Pos')\n",
    "grid on"
   ]
  },
  {
   "attachments": {},
   "cell_type": "markdown",
   "metadata": {},
   "source": [
    "## ノイズありの観測"
   ]
  },
  {
   "cell_type": "code",
   "execution_count": 12,
   "metadata": {},
   "outputs": [
    {
     "name": "stdout",
     "output_type": "stream",
     "text": [
      "\n"
     ]
    },
    {
     "data": {
      "image/png": "[encoded data removed]",
      "text/plain": [
       "<IPython.core.display.Image object>"
      ]
     },
     "metadata": {},
     "output_type": "display_data"
    }
   ],
   "source": [
    "% Measurement with noise\n",
    "sigma1 = 0.01;\n",
    "sigma2 = 0.02;\n",
    "sigma3 = 0.01;\n",
    "\n",
    "pos_ = pos + sigma1*randn(1,len);\n",
    "vel_ = vel + sigma2*randn(1,len);\n",
    "acc_ = acc + sigma3*randn(1,len);\n",
    "figure\n",
    "plot(time,acc_,time,vel_,time,pos_)\n",
    "legend('Acc','Vel','Pos')\n",
    "grid on"
   ]
  },
  {
   "cell_type": "markdown",
   "metadata": {},
   "source": [
    "## 一般可観測性指数によるノイズ推定"
   ]
  },
  {
   "cell_type": "code",
   "execution_count": 15,
   "metadata": {
    "scrolled": true
   },
   "outputs": [
    {
     "name": "stdout",
     "output_type": "stream",
     "text": [
      "\n",
      "Go2_1 =\n",
      "\n",
      "   1.0e+08 *\n",
      "\n",
      "    0.0000   -0.0000    0.0000\n",
      "   -0.0000    0.0000   -0.0020\n",
      "    0.0000   -0.0020    2.0000\n",
      "\n",
      "\n",
      "Go2_2 =\n",
      "\n",
      "    0.0001         0         0\n",
      "         0    0.0004   -0.4000\n",
      "         0   -0.4000  800.0000\n",
      "\n",
      "\n",
      "Go2_3 =\n",
      "\n",
      "    0.0001   -0.0000    0.0004\n",
      "   -0.0000    0.0004   -0.4000\n",
      "    0.0004   -0.4000  800.0000\n",
      "\n",
      "\n",
      "Go2_4 =\n",
      "\n",
      "    0.0001   -0.0000    0.0002\n",
      "   -0.0000    0.0004   -0.4000\n",
      "    0.0002   -0.4000  799.9997\n",
      "\n",
      "\n"
     ]
    }
   ],
   "source": [
    "Mo2_1 = [c1;c1*A;c2*A];\n",
    "Mo2_2 = [c1;c2;c2*A];\n",
    "Mo2_3 = [c1*A;c2;c2*A];\n",
    "\n",
    "\n",
    "Go2_1 = iMo2_1*diag([sigma1;sigma1;sigma2].^2)*iMo2_1'\n",
    "Go2_2 = iMo2_2*diag([sigma1;sigma2;sigma2].^2)*iMo2_2'\n",
    "Go2_3 = iMo2_3*diag([sigma1;sigma2;sigma2].^2)*iMo2_3'\n",
    "Go2_4 = iMo2_4*diag([sigma1;sigma1;sigma2;sigma2].^2)*iMo2_4'"
   ]
  },
  {
   "cell_type": "markdown",
   "metadata": {},
   "source": [
    "- 実際の分散は共分散行列の逆行列の対角成分の逆数になるはず"
   ]
  },
  {
   "cell_type": "code",
   "execution_count": 18,
   "metadata": {},
   "outputs": [
    {
     "name": "stdout",
     "output_type": "stream",
     "text": [
      "\n",
      "ans =\n",
      "\n",
      "    0.0001\n",
      "    0.0004\n",
      "  400.0000\n",
      "\n",
      "\n",
      "ans =\n",
      "\n",
      "    0.0001\n",
      "    0.0002\n",
      "  400.0000\n",
      "\n",
      "\n",
      "ans =\n",
      "\n",
      "    0.0001\n",
      "    0.0002\n",
      "  400.0000\n",
      "\n",
      "\n",
      "ans =\n",
      "\n",
      "    0.0000\n",
      "    0.0002\n",
      "  400.0000\n",
      "\n",
      "\n"
     ]
    }
   ],
   "source": [
    "1./diag(inv(Go2_1) )\n",
    "1./diag(inv(Go2_2) )\n",
    "1./diag(inv(Go2_3) )\n",
    "1./diag(inv(Go2_4) )"
   ]
  },
  {
   "cell_type": "code",
   "execution_count": 21,
   "metadata": {},
   "outputs": [
    {
     "name": "stderr",
     "output_type": "stream",
     "text": [
      "\u001b[1;31m関数としてスクリプト multirate_estimation_LS を実行しようとしています:\n",
      "C:\\Users\\hkedw\\Documents\\GitHub\\Lin_Algebra_memo\\src\\MultirateOBS\\multirate_estimation_LS.m\n",
      "\n",
      "\u001b[0m"
     ]
    }
   ],
   "source": [
    "multirate_estimation_LS(len,time,pos,vel,acc,pos_,vel_,acc_,Mo2_1,Mo2_2,Mo2_3,Mo2_4);"
   ]
  },
  {
   "cell_type": "code",
   "execution_count": null,
   "metadata": {},
   "outputs": [],
   "source": []
  },
  {
   "cell_type": "code",
   "execution_count": null,
   "metadata": {},
   "outputs": [],
   "source": []
  },
  {
   "cell_type": "code",
   "execution_count": null,
   "metadata": {},
   "outputs": [],
   "source": []
  },
  {
   "cell_type": "code",
   "execution_count": null,
   "metadata": {},
   "outputs": [],
   "source": []
  }
 ],
 "metadata": {
  "kernelspec": {
   "display_name": "Matlab",
   "language": "matlab",
   "name": "matlab"
  },
  "language_info": {
   "codemirror_mode": "octave",
   "file_extension": ".m",
   "help_links": [
    {
     "text": "MetaKernel Magics",
     "url": "https://github.com/calysto/metakernel/blob/master/metakernel/magics/README.md"
    }
   ],
   "mimetype": "text/x-octave",
   "name": "matlab",
   "version": "0.15.0"
  }
 },
 "nbformat": 4,
 "nbformat_minor": 2
}
