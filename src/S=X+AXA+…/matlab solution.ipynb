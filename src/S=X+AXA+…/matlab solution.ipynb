{
 "cells": [
  {
   "cell_type": "markdown",
   "metadata": {},
   "source": [
    "\n",
    "$$\n",
    "\\begin{align}\n",
    "\\end{align}\n",
    "$$\n",
    "\n",
    "# 目的\n",
    "\n",
    "以下の級数（名前知らない）の無限和を求めたい。\n",
    "\n",
    "$$\n",
    "\\begin{align}\n",
    "S &= X + AXA^\\top + A^2 X (A^2)^\\top + A^3 X (A^3)^\\top +...\\\\\n",
    "  &= \\sum^{\\infty}_{n=0} A^n X (A^n)^\\top\n",
    "\\end{align}\n",
    "$$\n",
    "\n",
    "条件として，\n",
    "\n",
    "- $A$はフルランクである。\n",
    "- $A$の全ての固有値の絶対値は1より小さい：$0<|eig(A)|<1$\n",
    "- $A,X \\in \\mathcal{R}^{n\\times n}$\n",
    "- $X$は対称行列\n",
    "\n",
    "とする。\n",
    "なんか足りなそうな条件あったら教えてください。"
   ]
  },
  {
   "cell_type": "markdown",
   "metadata": {},
   "source": [
    "## 数式の変換\n",
    "\n",
    "ここで$S$の両辺から$A$と$A^\\top$をかけた式とを見比べる。\n",
    "\n",
    "$$\n",
    "\\begin{align}\n",
    "S &= X + AXA^\\top + A^2 X (A^2)^\\top + ...\\\\\n",
    "ASA^\\top &= AXA^\\top +  A^2 X (A^2)^\\top +  A^3 X (A^3)^\\top + ...\\\\\n",
    "\\end{align}\n",
    "$$\n",
    "\n",
    "この時。$\\lim_{n\\rightarrow \\infty}A^nX(A^n)^\\top=0$になるため，引き算をして\n",
    "\n",
    "$$\n",
    "\\begin{align}\n",
    "S = ASA^\\top + X \\label{eq:SASAX}\n",
    "\\end{align}\n",
    "$$\n",
    "\n",
    "を得る。これを方程式（＊）と呼ぼう。（Markdownの表記都合上）\n",
    "\n",
    "これを$S$について解ければ良さそう。\n",
    "\n"
   ]
  },
  {
   "cell_type": "markdown",
   "metadata": {},
   "source": [
    "## 解法1：Sylvestar 方程式 への変換\n",
    "\n",
    "Sylvestar方程式とは以下の方程式のことをいう。\n",
    "\n",
    "$$\n",
    "AX + XB = C\n",
    "$$\n",
    "\n",
    "なお，*この方程式が一意的な解 $X$ を持つのは、行列 $A$ と $−B$ が共通する固有値を持たないときのみに限られる。*\n",
    "\n",
    "[Jameson, 1968](http://aero-comlab.stanford.edu/Papers/jameson_007.pdf)の論文に解法がある（非常にめんどい！）。 \n",
    "\n",
    "余談だが$A=B$の時，この式はご存知Lyapnov（リアプノフ）方程式となる。 \n",
    "こういった名前を知らないと調べる時に非常に不便するので，勉強とはこのためにあると言っても過言ではない。\n",
    "\n",
    "\n",
    "先程の方程式（＊）で$A$がフルランクなので，求めたい$S$について，\n",
    "\n",
    "$$\n",
    "A^{-1}S + S(-A^\\top) = A^{-1}X\n",
    "$$\n",
    "\n",
    "とできる。\n",
    "解がある条件は，$A^{-1}$と$A^\\top$が固有値を共有しない時，である。\n",
    "\n",
    "- $A$がフルランクより逆行列の固有値は元の行列の逆数になる。\n",
    "- 転置行列の固有値は元の行列と変わらない\n",
    "\n",
    "ということを考えると，**$A$が固有値に1を持たない or 逆数の関係にある固有値を持たない**という条件になり，これは前提にて満たされている。\n",
    "\n",
    "ということでscipyやmatlabのソルバを使えば一応この値が計算できるということになる。"
   ]
  },
  {
   "cell_type": "markdown",
   "metadata": {},
   "source": [
    "## 解法2：固有ベクトルの分解を用いて解く（名前知らない）\n",
    "\n",
    "名前は知らないが$A$の固有ベクトルを用いて方程式（＊）を解くことができる。\n",
    "\n",
    "今，線形写像$L(\\Phi)$を次のように定める。\n",
    "\n",
    "$$\n",
    "L(\\Phi)=\\Phi-A\\Phi A^\\top\n",
    "$$\n",
    "\n",
    "この写像に$\\Phi$に$S$を代入した時，方程式（＊）より\n",
    "\n",
    "$$\n",
    "L(S)=S-ASA^\\top=X\n",
    "$$\n",
    "\n",
    "となる。\n",
    "\n",
    "また，$A$の固有値と固有ベクトルをそれぞれ$\\lambda_i, u_i (i=1,...,n)$と置くと，\n",
    "\n",
    "$$\n",
    "\\begin{align}\n",
    "L(u_iu_j^\\top)&=u_iu_j^\\top-Au_iu_j^\\top A^\\top\\\\\n",
    "&=u_iu_j^\\top-\\lambda_iu_iu_j^\\top\\lambda_j\\\\\n",
    "&=(1-\\lambda_i\\bar{\\lambda_j}) u_iu_j^\\top\n",
    "\\end{align}\n",
    "$$\n",
    "\n",
    "\n",
    "という風に写像される。$u_iu_j^\\top$はより一般化して$u_iu_j^*$（エルミート）とした方が良いのかな…？その場合バーをつけている固有値も複素共役である必要がある。\n",
    "\n",
    "\n",
    "次もちょっと自信がないのだが，\n",
    "\n",
    "- $A$がフルランクなので固有ベクトルの積で$\\mathcal{R}^{n\\times n}$の空間を貼れる？\n",
    "\n",
    "ため，それぞれ\n",
    "\n",
    "$$\n",
    "X=\\sum_{ij} \\tilde{x}_{ij} u_iu_j^\\top\\\\\n",
    "S=\\sum_{ij} \\tilde{s}_{ij} u_iu_j^\\top\n",
    "$$\n",
    "\n",
    "と分解できる。$\\tilde{x}_{ij},\\tilde{s}_{ij}$は各要素のゲインを表すスカラである。\n",
    "\n",
    "先程の線形写像の関係式を用いれば，求めたいSの要素は\n",
    "\n",
    "$$\n",
    "\\tilde{s}_{ij} = \\frac{1}{(1-\\lambda_i\\bar{\\lambda_j})}\\tilde{x}_{ij}\n",
    "$$\n",
    "\n",
    "となる。カンのいい人は**$A$が固有値に1を持たない or 逆数の関係にある固有値を持たない**という条件がこの分母を0にしない条件と等価であることを察せるだろうか。\n",
    "\n",
    "\n",
    "\n",
    "したがって，**$\\tilde{x}_{ij}$を求めればいい**が，固有ベクトルの直交条件より\n",
    "\n",
    "$A=U\\Sigma U^\\top$の$U=[u_1 u_2 ... u_n]$を用いて\n",
    "\n",
    "\n",
    "$$\n",
    "X=U \\tilde{X}U^\\top = U\\begin{bmatrix}\n",
    "\\tilde{x}_{11}&\\tilde{x}_{12}& \\cdots \\\\\n",
    "\\tilde{x}_{21}&\\tilde{x}_{22}& \\cdots \\\\\n",
    "\\vdots & \\vdots & \\cdots\n",
    "\\end{bmatrix}\n",
    "U^\\top\n",
    "$$\n",
    "\n",
    "\n",
    "となるため，\n",
    "同様の考察をすれば，$\\Lambda=[\\lambda_1 \\lambda_2 ... \\lambda_n]^\\top[\\lambda_1 \\lambda_2 ... \\lambda_n]$を用いて$S=U\\tilde{S}U^\\top$の$\\tilde{S}$は\n",
    "\n",
    "$$\n",
    "\\tilde{S}=G.*\\tilde{X}^\\top\\\\\n",
    "\\mbox{while,  } \\  G=1./(ones-\\Lambda)\n",
    "$$\n",
    "\n",
    "と計算できる。ここで1で引かれているので任意の\n",
    "\n",
    "onesは全ての要素が1の行列，.\\*と./は要素ごとの積と除算を表す。（matlabコマンドを使う人は想像付きやすいかと）\n"
   ]
  },
  {
   "cell_type": "markdown",
   "metadata": {},
   "source": [
    "# 実際にやってみる\n",
    "\n",
    "実際にやってみよう。\n",
    "\n",
    "```\n",
    "A = [1.5 1 ; -0.7 0 ]\n",
    "X = [1 0.5 ; 0.5 0.25 ]\n",
    "```\n",
    "\n",
    "の2次元行列として，\n",
    "\n",
    "1. 級数和を地道に計算（数値解？）\n",
    "1. シルベスタ方程式を用いて求める（解１）\n",
    "1. 固有値ベクトルを用いた方法で求める（解２）\n",
    "\n",
    "として結果を比較してみよう"
   ]
  },
  {
   "cell_type": "code",
   "execution_count": 16,
   "metadata": {},
   "outputs": [
    {
     "name": "stdout",
     "output_type": "stream",
     "text": [
      "\n",
      "A =\n",
      "\n",
      "    1.5000    1.0000\n",
      "   -0.7000         0\n",
      "\n",
      "\n",
      "X =\n",
      "\n",
      "    1.0000    0.5000\n",
      "    0.5000    0.2500\n",
      "\n",
      "\n",
      "ans =\n",
      "\n",
      "   0.7500 + 0.3708i\n",
      "   0.7500 - 0.3708i\n",
      "\n",
      "\n"
     ]
    }
   ],
   "source": [
    "% 変数設定\n",
    "A = [1.5 1 ; -0.7 0 ]\n",
    "X = [1 0.5 ; 0.5 0.25 ]\n",
    "\n",
    "eig(A)"
   ]
  },
  {
   "cell_type": "markdown",
   "metadata": {},
   "source": [
    "## １．愚直に計算する\n",
    "\n",
    "愚直に計算するとだいたい，\n",
    "\n",
    "```\n",
    "S1 =\n",
    "\n",
    "18.8694  -11.3596\n",
    "  -11.3596    9.4952\n",
    "```\n",
    "\n",
    "くらいの値になる。\n",
    "   "
   ]
  },
  {
   "cell_type": "code",
   "execution_count": 17,
   "metadata": {},
   "outputs": [
    {
     "name": "stdout",
     "output_type": "stream",
     "text": [
      "sum of 1th term\n",
      "\n",
      "S1 =\n",
      "\n",
      "    5.0000   -0.9000\n",
      "   -0.9000    0.7400\n",
      "\n",
      "sum of 6th term\n",
      "\n",
      "S1 =\n",
      "\n",
      "   17.2341  -10.3678\n",
      "  -10.3678    8.6879\n",
      "\n",
      "sum of 11th term\n",
      "\n",
      "S1 =\n",
      "\n",
      "   18.6998  -11.2240\n",
      "  -11.2240    9.3343\n",
      "\n",
      "sum of 16th term\n",
      "\n",
      "S1 =\n",
      "\n",
      "   18.8266  -11.3207\n",
      "  -11.3207    9.4558\n",
      "\n",
      "sum of 21th term\n",
      "\n",
      "S1 =\n",
      "\n",
      "   18.8694  -11.3596\n",
      "  -11.3596    9.4952\n",
      "\n",
      "\n"
     ]
    }
   ],
   "source": [
    "S1 = X;\n",
    "\n",
    "for i = 1:21\n",
    "S1 = S1 + A^i*X*A^i';\n",
    "    if mod(i,5)==1\n",
    "        disp(['sum of ',num2str(i),'th term'])\n",
    "        display(S1)\n",
    "    end\n",
    "end"
   ]
  },
  {
   "cell_type": "markdown",
   "metadata": {},
   "source": [
    "## ２．シルベスタ方程式で解く\n",
    "これはコマンドを叩くだけ。\n",
    "\n",
    "値は\n",
    "```\n",
    "S2 =\n",
    "\n",
    "   18.8802  -11.3672\n",
    "  -11.3672    9.5013\n",
    "```\n",
    "で同じ感じ。 "
   ]
  },
  {
   "cell_type": "code",
   "execution_count": 18,
   "metadata": {},
   "outputs": [
    {
     "name": "stdout",
     "output_type": "stream",
     "text": [
      "\n",
      "S2 =\n",
      "\n",
      "   18.8802  -11.3672\n",
      "  -11.3672    9.5013\n",
      "\n",
      "\n"
     ]
    }
   ],
   "source": [
    "S2 = sylvester(inv(A),-A',A\\X)"
   ]
  },
  {
   "cell_type": "markdown",
   "metadata": {},
   "source": [
    "## ３．固有ベクトルを用いて解く\n",
    "めんどくさいようでコマンド自体はそこまで複雑でもない。\n",
    "\n",
    "```\n",
    "S3 =\n",
    "\n",
    "  18.8802 - 0.0000i -11.3672 + 0.0000i\n",
    " -11.3672 + 0.0000i   9.5013 - 0.0000i\n",
    "```\n",
    "\n",
    "複素数が混じっているものの同じ様な値を取れた。"
   ]
  },
  {
   "cell_type": "code",
   "execution_count": 21,
   "metadata": {},
   "outputs": [
    {
     "name": "stdout",
     "output_type": "stream",
     "text": [
      "\n",
      "S3 =\n",
      "\n",
      "  18.8802 - 0.0000i -11.3672 + 0.0000i\n",
      " -11.3672 + 0.0000i   9.5013 - 0.0000i\n",
      "\n",
      "\n"
     ]
    }
   ],
   "source": [
    "[U,D] = eig(A);\n",
    "\n",
    "Sigma = diag(D);\n",
    "\n",
    "G = 1./(ones(2,2)-Sigma*Sigma');\n",
    "\n",
    "X_tilde = inv(U)*X*inv(U');\n",
    "S_tilde = G.*X_tilde;\n",
    "\n",
    "S3 = U*S_tilde*U'\n",
    "\n"
   ]
  },
  {
   "cell_type": "markdown",
   "metadata": {},
   "source": [
    "# まとめ\n",
    "\n",
    "一応この方程式を解くことはできたが，この級数の導出についてまともな説明のある論文や教科書があったら教えてほしい。\n",
    "\n",
    "絶対あると思うんだよなぁ。\n",
    "\n"
   ]
  }
 ],
 "metadata": {
  "kernelspec": {
   "display_name": "Matlab",
   "language": "matlab",
   "name": "matlab"
  },
  "language_info": {
   "codemirror_mode": "octave",
   "file_extension": ".m",
   "help_links": [
    {
     "text": "MetaKernel Magics",
     "url": "https://github.com/calysto/metakernel/blob/master/metakernel/magics/README.md"
    }
   ],
   "mimetype": "text/x-octave",
   "name": "matlab",
   "version": "0.15.0"
  }
 },
 "nbformat": 4,
 "nbformat_minor": 2
}
